{
 "cells": [
  {
   "cell_type": "code",
   "execution_count": 150,
   "metadata": {},
   "outputs": [],
   "source": [
    "import numpy as np\n",
    "import matplotlib.pyplot as plt\n",
    "\n",
    "count = 1\n",
    "\n",
    "class CosineSimilarityTree:\n",
    "    def __init__(self, data, threshold):\n",
    "        self.threshold = threshold\n",
    "        self.root = self.build_tree(data)\n",
    "        \n",
    "    class Node:\n",
    "        def __init__(self, data):\n",
    "            self.data = data\n",
    "            self.left = None\n",
    "            self.right = None\n",
    "        \n",
    "    def build_tree(self, data):\n",
    "        if len(data) == 0:\n",
    "            return None\n",
    "        root = self.Node(data[0])\n",
    "        left_data, right_data = [], []\n",
    "        for i in range(1, len(data)):\n",
    "            cosine_similarity = self.calculate_cosine_similarity(data[i], root.data)\n",
    "            if cosine_similarity <= self.threshold:\n",
    "                left_data.append(data[i])\n",
    "            else:\n",
    "                right_data.append(data[i])\n",
    "        root.left = self.build_tree(left_data)\n",
    "        root.right = self.build_tree(right_data)\n",
    "        return root\n",
    "    \n",
    "    def calculate_cosine_similarity(self, a, b):\n",
    "        dot_product = np.dot(a, b)\n",
    "        norm_a = np.linalg.norm(a)\n",
    "        norm_b = np.linalg.norm(b)\n",
    "        return dot_product / (norm_a * norm_b)\n",
    "    \n",
    "    def plot(self):\n",
    "        plt.figure()\n",
    "        self.plot_node(self.root, 0, 100, 0)\n",
    "        plt.axis('off')\n",
    "        plt.show()\n",
    "        \n",
    "    def plot_node(self, node, x_start, x_end, y_start):\n",
    "        global count\n",
    "        if node is None:\n",
    "            return\n",
    "        x = (x_start + x_end) / 2\n",
    "        print(x, y_start)\n",
    "        y = y_start + 3\n",
    "        plt.plot(x, y_start, 'ko', markersize=5) # 在画面上方中央画Root\n",
    "\n",
    "        plt.text(x, y_start + 2, str(count))\n",
    "        count += 1\n",
    "\n",
    "        if node.left is not None:\n",
    "            self.plot_node(node.left, x_start, x, y)\n",
    "            plt.plot([x, (x+x_start) / 2], [y_start, y], linewidth=2, color='r') #(x, y_start)到((x+x_start)/2, y)\n",
    "        if node.right is not None:\n",
    "            self.plot_node(node.right, x, x_end, y)\n",
    "            plt.plot([x, (x+x_end) / 2], [y_start, y], linewidth=2, color='g')#(x, y_start)到((x+x_end)/2, y)\n",
    "            "
   ]
  },
  {
   "cell_type": "code",
   "execution_count": 151,
   "metadata": {},
   "outputs": [],
   "source": [
    "# Generate random data\n",
    "num_samples = 100\n",
    "data_dimension = 10\n",
    "data = np.random.randn(num_samples, data_dimension)\n",
    "\n",
    "np.insert(data, 0, [0 for i in range(data_dimension)])\n",
    "\n",
    "# Generate random threshold\n",
    "threshold = 0.4\n",
    "\n",
    "# # Print generated data\n",
    "# print(\"Data:\")\n",
    "# print(data)\n",
    "# print(\"Targets:\")\n",
    "# print(targets)\n",
    "# print(\"Threshold:\", threshold)\n",
    "tree = CosineSimilarityTree(data, threshold)"
   ]
  },
  {
   "cell_type": "code",
   "execution_count": 152,
   "metadata": {},
   "outputs": [
    {
     "name": "stdout",
     "output_type": "stream",
     "text": [
      "50.0 0\n",
      "25.0 3\n",
      "12.5 6\n",
      "6.25 9\n",
      "3.125 12\n",
      "1.5625 15\n",
      "0.78125 18\n",
      "9.375 12\n",
      "18.75 9\n",
      "75.0 3\n"
     ]
    },
    {
     "data": {
      "image/png": "[encoded data removed]",
      "text/plain": [
       "<Figure size 640x480 with 1 Axes>"
      ]
     },
     "metadata": {},
     "output_type": "display_data"
    }
   ],
   "source": [
    "tree.plot()"
   ]
  }
 ],
 "metadata": {
  "kernelspec": {
   "display_name": "Python 3",
   "language": "python",
   "name": "python3"
  },
  "language_info": {
   "codemirror_mode": {
    "name": "ipython",
    "version": 3
   },
   "file_extension": ".py",
   "mimetype": "text/x-python",
   "name": "python",
   "nbconvert_exporter": "python",
   "pygments_lexer": "ipython3",
   "version": "3.10.10"
  },
  "orig_nbformat": 4
 },
 "nbformat": 4,
 "nbformat_minor": 2
}
